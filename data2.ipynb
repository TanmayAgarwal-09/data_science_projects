{
 "cells": [
  {
   "cell_type": "code",
   "execution_count": 49,
   "id": "135f34ed-62ba-4f22-8a7c-f1af2f8067b0",
   "metadata": {},
   "outputs": [
    {
     "name": "stdout",
     "output_type": "stream",
     "text": [
      "Data cleaned successfully\n"
     ]
    }
   ],
   "source": [
    "import json\n",
    "\n",
    "def clean_data(data):\n",
    "    # Remove users with missing name\n",
    "    data[\"users\"] = [user for user in data[\"users\"] if user[\"name\"].strip()]\n",
    "\n",
    "    # Remove duplicate friends\n",
    "    for user in data[\"users\"]:\n",
    "        user[\"friends\"] = list(set(user[\"friends\"]))\n",
    "\n",
    "    # Remove inactive users (no friends or liked pages)\n",
    "    data[\"users\"] = [user for user in data[\"users\"] if user[\"friends\"] or user[\"liked_pages\"]]\n",
    "\n",
    "    # Remove duplicate pages\n",
    "    unique_pages = {}\n",
    "    for page in data[\"pages\"]:\n",
    "        unique_pages[page[\"id\"]] = page\n",
    "    data[\"pages\"] = list(unique_pages.values())\n",
    "\n",
    "    return data\n",
    "\n",
    "# Load JSON safely\n",
    "with open(\"codebook2.json\", \"r\") as f:\n",
    "    data = json.load(f)\n",
    "\n",
    "# Clean the data\n",
    "data2 = clean_data(data)\n",
    "\n",
    "# Write cleaned data to new file\n",
    "with open(\"cleaned_data.json\", \"w\") as f:\n",
    "    json.dump(data2, f, indent=4)\n",
    "\n",
    "print(\"Data cleaned successfully\")\n"
   ]
  },
  {
   "cell_type": "code",
   "execution_count": null,
   "id": "a1ee904f-8d7a-45b2-bab2-4dd8279a5260",
   "metadata": {},
   "outputs": [],
   "source": []
  },
  {
   "cell_type": "code",
   "execution_count": null,
   "id": "c37a44ae-c87e-4892-b586-2a660545fa1f",
   "metadata": {},
   "outputs": [],
   "source": []
  }
 ],
 "metadata": {
  "kernelspec": {
   "display_name": "Python [conda env:base] *",
   "language": "python",
   "name": "conda-base-py"
  },
  "language_info": {
   "codemirror_mode": {
    "name": "ipython",
    "version": 3
   },
   "file_extension": ".py",
   "mimetype": "text/x-python",
   "name": "python",
   "nbconvert_exporter": "python",
   "pygments_lexer": "ipython3",
   "version": "3.12.7"
  }
 },
 "nbformat": 4,
 "nbformat_minor": 5
}
