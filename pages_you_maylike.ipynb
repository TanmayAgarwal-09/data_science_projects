{
 "cells": [
  {
   "cell_type": "code",
   "execution_count": 15,
   "id": "0f95c9ec-db8a-4b4d-b0cd-5c6b65afc179",
   "metadata": {},
   "outputs": [
    {
     "ename": "NameError",
     "evalue": "name 'users' is not defined",
     "output_type": "error",
     "traceback": [
      "\u001b[1;31m---------------------------------------------------------------------------\u001b[0m",
      "\u001b[1;31mNameError\u001b[0m                                 Traceback (most recent call last)",
      "Cell \u001b[1;32mIn[15], line 26\u001b[0m\n\u001b[0;32m     24\u001b[0m data \u001b[38;5;241m=\u001b[39m load_data(\u001b[38;5;124m\"\u001b[39m\u001b[38;5;124mmassive_data.json\u001b[39m\u001b[38;5;124m\"\u001b[39m)\n\u001b[0;32m     25\u001b[0m user_id \u001b[38;5;241m=\u001b[39m \u001b[38;5;241m1\u001b[39m  \u001b[38;5;66;03m# Example: Finding recommendations for Amit\u001b[39;00m\n\u001b[1;32m---> 26\u001b[0m page_recommendations \u001b[38;5;241m=\u001b[39m find_pages_you_might_like(user_id, data)\n\u001b[0;32m     27\u001b[0m \u001b[38;5;28mprint\u001b[39m(\u001b[38;5;124mf\u001b[39m\u001b[38;5;124m\"\u001b[39m\u001b[38;5;124mPages You Might Like for User \u001b[39m\u001b[38;5;132;01m{\u001b[39;00muser_id\u001b[38;5;132;01m}\u001b[39;00m\u001b[38;5;124m: \u001b[39m\u001b[38;5;132;01m{\u001b[39;00mpage_recommendations\u001b[38;5;132;01m}\u001b[39;00m\u001b[38;5;124m\"\u001b[39m)\n",
      "Cell \u001b[1;32mIn[15], line 7\u001b[0m, in \u001b[0;36mfind_pages_you_might_like\u001b[1;34m(data, user_id)\u001b[0m\n\u001b[0;32m      5\u001b[0m \u001b[38;5;28;01mdef\u001b[39;00m \u001b[38;5;21mfind_pages_you_might_like\u001b[39m(data,user_id):\n\u001b[0;32m      6\u001b[0m     user_pages\u001b[38;5;241m=\u001b[39m{}\n\u001b[1;32m----> 7\u001b[0m     \u001b[38;5;28;01mfor\u001b[39;00m user \u001b[38;5;129;01min\u001b[39;00m data[users]:\n\u001b[0;32m      8\u001b[0m         user_pages[user[\u001b[38;5;124m\"\u001b[39m\u001b[38;5;124mid\u001b[39m\u001b[38;5;124m\"\u001b[39m]]\u001b[38;5;241m=\u001b[39m\u001b[38;5;28mset\u001b[39m(user[\u001b[38;5;124m\"\u001b[39m\u001b[38;5;124mliked_pages\u001b[39m\u001b[38;5;124m\"\u001b[39m])\n\u001b[0;32m      9\u001b[0m     \u001b[38;5;28;01mif\u001b[39;00m user_id \u001b[38;5;129;01mnot\u001b[39;00m \u001b[38;5;129;01min\u001b[39;00m user_pages:\n",
      "\u001b[1;31mNameError\u001b[0m: name 'users' is not defined"
     ]
    }
   ],
   "source": [
    "import json\n",
    "def load_data(filename):\n",
    "    with open(filename,\"r\") as file:\n",
    "        return json.load(file)\n",
    "def find_pages_you_might_like(data,user_id):\n",
    "    user_pages={}\n",
    "    for user in data[users]:\n",
    "        user_pages[user[\"id\"]]=set(user[\"liked_pages\"])\n",
    "    if user_id not in user_pages:\n",
    "        return []\n",
    "        #store specific user liked pages\n",
    "    user_liked_pages=user_pages[user_id]\n",
    "    pages_suggestions={}\n",
    "    for other_users,pages in user_pages.items():\n",
    "        if other_user != user_id:\n",
    "            shared_pages=user_liked_pages.intersection(pages)\n",
    "    for page in pages:\n",
    "        if page not in user_liked_pages:\n",
    "            pages_suggestions[page]=page_suggestions.get(page,0)+len(shared_pages)\n",
    "    #sort\n",
    "    sorted_pages=sort(pages_suggestions.items ,key=lambda x:x[1],reverse=True)\n",
    "    return [page_id for page_id,_ in sorted_pages]\n",
    "# Load data\n",
    "data = load_data(\"massive_data.json\")\n",
    "user_id = 1  # Example: Finding recommendations for Amit\n",
    "page_recommendations = find_pages_you_might_like(user_id, data)\n",
    "print(f\"Pages You Might Like for User {user_id}: {page_recommendations}\")\n",
    "        \n",
    "        "
   ]
  },
  {
   "cell_type": "code",
   "execution_count": null,
   "id": "4961ec26-8daf-4867-a40e-0e70c7694e9d",
   "metadata": {},
   "outputs": [],
   "source": []
  }
 ],
 "metadata": {
  "kernelspec": {
   "display_name": "Python [conda env:base] *",
   "language": "python",
   "name": "conda-base-py"
  },
  "language_info": {
   "codemirror_mode": {
    "name": "ipython",
    "version": 3
   },
   "file_extension": ".py",
   "mimetype": "text/x-python",
   "name": "python",
   "nbconvert_exporter": "python",
   "pygments_lexer": "ipython3",
   "version": "3.12.7"
  }
 },
 "nbformat": 4,
 "nbformat_minor": 5
}
